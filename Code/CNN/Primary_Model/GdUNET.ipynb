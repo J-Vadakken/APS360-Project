{
 "cells": [
  {
   "cell_type": "code",
   "execution_count": 2,
   "metadata": {},
   "outputs": [],
   "source": [
    "import torch\n",
    "import torch.nn as nn\n",
    "import torch.nn.functional as F\n",
    "from torchvision import datasets, transforms\n",
    "import matplotlib.pyplot as plt \n",
    "import torch.optim as optim"
   ]
  },
  {
   "cell_type": "code",
   "execution_count": null,
   "metadata": {},
   "outputs": [],
   "source": [
    "def double_conv(in_channels, out_channels):\n",
    "    return nn.Sequential(\n",
    "        nn.Conv2d(in_channels, out_channels, 3, padding=1),\n",
    "        nn.ReLU(),\n",
    "        nn.Conv2d(out_channels, out_channels, 3, padding=1),\n",
    "        nn.ReLU()\n",
    "    ) \n",
    "\n",
    "class GDMapUNet(nn.Module):\n",
    "    def __init__(self, n_classes):\n",
    "        super(GDMapUNet, self).__init__()\n",
    "\n",
    "        self.downconv1 = double_conv(3, 64)\n",
    "        self.downconv2 = double_conv(64, 128)\n",
    "        self.downconv3 = double_conv(128, 256)\n",
    "        self.downconv4 = double_conv(256, 512) \n",
    "\n",
    "        self.maxpool = nn.MaxPool2d(kernel_size=2)\n",
    "        self.upsample = nn.Upsample(scale_factor=2, mode='bilinear', align_corners=True)     \n",
    "\n",
    "        self.upconv1 = double_conv(256 + 512, 256)\n",
    "        self.upconv2 = double_conv(128 + 256, 128)\n",
    "        self.upconv3 = double_conv(128 + 64, 64)\n",
    "        self.upconvSMAP = nn.Conv2d(64, n_classes, 1)\n",
    "\n",
    "    def forward(self, x):\n",
    "        conv1 = self.downconv1(x)\n",
    "        x = self.maxpool(conv1)\n",
    "\n",
    "        conv2 = self.downconv2(x)\n",
    "        x = self.maxpool(conv2)\n",
    "        \n",
    "        conv3 = self.downconv3(x)\n",
    "        x = self.maxpool(conv3)   \n",
    "        \n",
    "        x = self.downconv4(x)\n",
    "        \n",
    "        # feed in information from the encoder using concat skip connections\n",
    "\n",
    "        x = self.upsample(x)        \n",
    "        x = torch.cat([x, conv3], dim=1)\n",
    "        \n",
    "        x = self.upconv1(x)\n",
    "        x = self.upsample(x)        \n",
    "        x = torch.cat([x, conv2], dim=1)       \n",
    "\n",
    "        x = self.upconv2(x)\n",
    "        x = self.upsample(x)        \n",
    "        x = torch.cat([x, conv1], dim=1)   \n",
    "        \n",
    "        return self.upconvSMAP(self.upconv3(x))"
   ]
  }
 ],
 "metadata": {
  "kernelspec": {
   "display_name": "Python 3",
   "language": "python",
   "name": "python3"
  },
  "language_info": {
   "codemirror_mode": {
    "name": "ipython",
    "version": 3
   },
   "file_extension": ".py",
   "mimetype": "text/x-python",
   "name": "python",
   "nbconvert_exporter": "python",
   "pygments_lexer": "ipython3",
   "version": "3.11.2"
  }
 },
 "nbformat": 4,
 "nbformat_minor": 2
}
